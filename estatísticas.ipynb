{
 "cells": [
  {
   "cell_type": "markdown",
   "metadata": {},
   "source": [
    "# Estatísticas experimentoqos"
   ]
  },
  {
   "cell_type": "code",
   "execution_count": 1,
   "metadata": {},
   "outputs": [],
   "source": [
    "import pandas as pd\n",
    "import numpy as np\n",
    "import sklearn\n",
    "from sklearn import tree\n",
    "import graphviz\n",
    "import matplotlib.pyplot as plt\n",
    "from sklearn.metrics import accuracy_score\n",
    "from wordcloud import WordCloud\n",
    "pd.options.mode.chained_assignment = None  # default='warn'"
   ]
  },
  {
   "cell_type": "code",
   "execution_count": 2,
   "metadata": {},
   "outputs": [],
   "source": [
    "# Join entre Stress e Feedbacks\n",
    "\n",
    "feedbacks = pd.read_csv(\"Feedbacks_0910 - feedbacks.csv\", parse_dates=['created_date'])\n",
    "stress = pd.read_csv(\"Feedbacks_0910 - stress.csv\", parse_dates=['created_date'])\n",
    "\n",
    "stress_sid = stress[pd.notna(stress['session_id'])] # pega os que tem session_id preenchido\n",
    "stress_email = stress[pd.notna(stress['email'])] # pega os que tem email preenchido\n",
    "stress_email = stress_email[ ~stress_email['session_id'].isin(stress_sid['session_id']) ] # pega os que tem email sem session_id\n",
    "stress_final = pd.concat([stress_sid, stress_email])\n",
    "\n",
    "feedbacks_stress = pd.merge(feedbacks, stress_final, on=['session_id', 'email'], how='inner')\n",
    "feedbacks_stress.drop(columns = ['created_date_y', 'num_sessao_y'], inplace=True)\n",
    "feedbacks_stress.rename(index=str, columns={'created_date_x':'created_date', 'num_sessao_x':'num_sessao', 'id_x':'id', 'justificativa_x':'justificativa', 'english_x':'english'}, inplace=True)\n",
    "\n",
    "feedbacks_stress = feedbacks_stress.loc[feedbacks_stress['num_video_preferido'] > 0]"
   ]
  },
  {
   "cell_type": "code",
   "execution_count": 3,
   "metadata": {},
   "outputs": [],
   "source": [
    "#normaliza os dados da versao 1 para range de 5\n",
    "def normalize_v1(feedbacks):\n",
    "    feedbacks.loc[feedbacks['versao'] == 1, ['incomodo', 'interesse1', 'interesse2'] ] //= 2\n",
    "    return feedbacks\n",
    "\n",
    "feedbacks_stress = normalize_v1(feedbacks_stress)"
   ]
  },
  {
   "cell_type": "code",
   "execution_count": 4,
   "metadata": {},
   "outputs": [],
   "source": [
    "# inversao dos valores das sessoes que tem o primeiro video com QoS alta\n",
    "\n",
    "def swap_ints(feedbacks):\n",
    "    feedbacks = feedbacks.reset_index(drop=True)\n",
    "\n",
    "    for i in range(len(feedbacks.index)):\n",
    "        if (feedbacks.loc[i, 'english'] == 0): # só precisa trocar na versão pt-br\n",
    "            if feedbacks.loc[i, 'created_date'].month < 7:\n",
    "                if feedbacks.loc[i]['num_sessao'] in (1, 3, 6):\n",
    "                    feedbacks.at[i, 'interesse1'], feedbacks.at[i, 'interesse2'] = feedbacks.at[i, 'interesse2'], feedbacks.at[i, 'interesse1']\n",
    "                    if feedbacks.at[i, 'num_video_preferido'] == 1:\n",
    "                        feedbacks.at[i, 'num_video_preferido'] = 2\n",
    "                    else:\n",
    "                        feedbacks.at[i, 'num_video_preferido'] = 1                   \n",
    "            else:\n",
    "\n",
    "                if feedbacks.loc[i, 'num_sessao'] in (1, 5):\n",
    "                    feedbacks.at[i, 'interesse1'], feedbacks.at[i, 'interesse2'] = feedbacks.at[i, 'interesse2'], feedbacks.at[i, 'interesse1']\n",
    "\n",
    "                    if feedbacks.at[i, 'num_video_preferido'] == 1:\n",
    "                        feedbacks.at[i, 'num_video_preferido'] = 2\n",
    "                    else:\n",
    "                        feedbacks.at[i, 'num_video_preferido'] = 1\n",
    "    return feedbacks\n",
    "\n",
    "feedbacks_stress = swap_ints(feedbacks_stress)"
   ]
  },
  {
   "cell_type": "code",
   "execution_count": 5,
   "metadata": {
    "scrolled": false
   },
   "outputs": [],
   "source": [
    "#estatisticas basicas\n",
    "feedbacks_stress['dif_interesses'] = (feedbacks_stress['interesse1'] - feedbacks_stress['interesse2'])\n",
    "# feedbacks_stress[['num_sessao', 'num_video_preferido', 'incomodo', 'interesse1', 'interesse2', 'dif_interesses', 'estresse']].describe()\n"
   ]
  },
  {
   "cell_type": "code",
   "execution_count": 6,
   "metadata": {},
   "outputs": [
    {
     "data": {
      "text/html": [
       "<div>\n",
       "<style scoped>\n",
       "    .dataframe tbody tr th:only-of-type {\n",
       "        vertical-align: middle;\n",
       "    }\n",
       "\n",
       "    .dataframe tbody tr th {\n",
       "        vertical-align: top;\n",
       "    }\n",
       "\n",
       "    .dataframe thead th {\n",
       "        text-align: right;\n",
       "    }\n",
       "</style>\n",
       "<table border=\"1\" class=\"dataframe\">\n",
       "  <thead>\n",
       "    <tr style=\"text-align: right;\">\n",
       "      <th></th>\n",
       "      <th>Annoyance</th>\n",
       "      <th>Stress</th>\n",
       "    </tr>\n",
       "  </thead>\n",
       "  <tbody>\n",
       "    <tr>\n",
       "      <th>count</th>\n",
       "      <td>93.000000</td>\n",
       "      <td>93.000000</td>\n",
       "    </tr>\n",
       "    <tr>\n",
       "      <th>mean</th>\n",
       "      <td>3.892473</td>\n",
       "      <td>7.032258</td>\n",
       "    </tr>\n",
       "    <tr>\n",
       "      <th>std</th>\n",
       "      <td>1.314322</td>\n",
       "      <td>2.300527</td>\n",
       "    </tr>\n",
       "    <tr>\n",
       "      <th>min</th>\n",
       "      <td>0.000000</td>\n",
       "      <td>0.000000</td>\n",
       "    </tr>\n",
       "    <tr>\n",
       "      <th>25%</th>\n",
       "      <td>4.000000</td>\n",
       "      <td>6.000000</td>\n",
       "    </tr>\n",
       "    <tr>\n",
       "      <th>50%</th>\n",
       "      <td>4.000000</td>\n",
       "      <td>8.000000</td>\n",
       "    </tr>\n",
       "    <tr>\n",
       "      <th>75%</th>\n",
       "      <td>5.000000</td>\n",
       "      <td>9.000000</td>\n",
       "    </tr>\n",
       "    <tr>\n",
       "      <th>max</th>\n",
       "      <td>5.000000</td>\n",
       "      <td>10.000000</td>\n",
       "    </tr>\n",
       "  </tbody>\n",
       "</table>\n",
       "</div>"
      ],
      "text/plain": [
       "       Annoyance     Stress\n",
       "count  93.000000  93.000000\n",
       "mean    3.892473   7.032258\n",
       "std     1.314322   2.300527\n",
       "min     0.000000   0.000000\n",
       "25%     4.000000   6.000000\n",
       "50%     4.000000   8.000000\n",
       "75%     5.000000   9.000000\n",
       "max     5.000000  10.000000"
      ]
     },
     "execution_count": 6,
     "metadata": {},
     "output_type": "execute_result"
    }
   ],
   "source": [
    "f_12 = feedbacks_stress.copy()\n",
    "f_12.rename(columns={'incomodo':'Annoyance', 'estresse':'Stress'}, inplace=True)\n",
    "\n",
    "f_1 = f_12[(f_12['dif_interesses'] > 0) & (f_12['num_video_preferido'] == 2)][['Annoyance','Stress']].describe()\n",
    "f_1"
   ]
  },
  {
   "cell_type": "code",
   "execution_count": 7,
   "metadata": {},
   "outputs": [
    {
     "data": {
      "image/png": "[encoded data removed]",
      "text/plain": [
       "<Figure size 432x288 with 1 Axes>"
      ]
     },
     "metadata": {},
     "output_type": "display_data"
    }
   ],
   "source": [
    "   \n",
    "def dif_pref(feedbacks):\n",
    "    #counts = feedbacks_stress.groupby(['dif_interesses', 'num_video_preferido'], as_index=False).size().unstack(fill_value=0).reset_index()\n",
    "    counts = feedbacks.groupby(['dif_interesses', 'num_video_preferido'], as_index=False).size().unstack(fill_value=0).reset_index()\n",
    "    counts['V1_percent'] = round(counts[1]/(counts[1]+counts[2]), 2)\n",
    "    counts['V2_percent'] = round(counts[2]/(counts[1]+counts[2]), 2)\n",
    "\n",
    "    ax = plt.subplot()\n",
    "    b1 = ax.bar(counts['dif_interesses']-0.1, counts[1],width=0.2,color='r',align='center')\n",
    "    b2 = ax.bar(counts['dif_interesses']+0.1, counts[2],width=0.2,color='b',align='center')\n",
    "    ax.set_xticks(np.arange(-len(b1)//2+1, len(b1)//2+1, 1))\n",
    "\n",
    "    leg = plt.legend((b1[0], b2[0]), ('LowQoS', 'HighQoS'), loc = 'upper right')\n",
    "\n",
    "    # Get the bounding box of the original legend\n",
    "    bb = leg.get_bbox_to_anchor().inverse_transformed(ax.transAxes)\n",
    "\n",
    "    # Change to location of the legend. \n",
    "    xOffset = 0\n",
    "    bb.x0 += xOffset\n",
    "    bb.x1 += xOffset\n",
    "\n",
    "    leg.set_bbox_to_anchor(bb, transform = ax.transAxes)\n",
    "\n",
    "    plt.ylabel('Number of answers', fontsize=11)\n",
    "    plt.xlabel('Difference(InterestLowQoS - InterestHighQoS)', fontsize=11)\n",
    "\n",
    "\n",
    "    def autolabel(rects, xpos='center'):\n",
    "        \"\"\"\n",
    "        Attach a text label above each bar in *rects*, displaying its height.\n",
    "\n",
    "        *xpos* indicates which side to place the text w.r.t. the center of\n",
    "        the bar. It can be one of the following {'center', 'right', 'left'}.\n",
    "        \"\"\"\n",
    "\n",
    "        xpos = xpos.lower()  # normalize the case of the parameter\n",
    "        ha = {'center': 'center', 'right': 'left', 'left': 'right'}\n",
    "        offset = {'center': 0.5, 'right': 0.57, 'left': 0.43}  # x_txt = x + w*off\n",
    "\n",
    "        for rect in rects:\n",
    "            height = rect.get_height()\n",
    "            ax.text(rect.get_x() + rect.get_width()*offset[xpos], 1.01*height,\n",
    "                    '{}'.format(height), ha=ha[xpos], va='bottom')\n",
    "\n",
    "\n",
    "    autolabel(b1, \"left\")\n",
    "    autolabel(b2, \"right\")\n",
    "    plt.savefig(\"dif_vs_class\")\n",
    "    plt.show()\n",
    "    \n",
    "dif_pref(feedbacks_stress)"
   ]
  },
  {
   "cell_type": "code",
   "execution_count": 16,
   "metadata": {},
   "outputs": [
    {
     "data": {
      "image/png": "[encoded data removed]",
      "text/plain": [
       "<Figure size 432x288 with 1 Axes>"
      ]
     },
     "metadata": {},
     "output_type": "display_data"
    }
   ],
   "source": [
    "# gráfico de cima para cada sessão, so descomentar a sessao requerida.\n",
    "# Obs: Nao considero os da versao em ingles porque as sessoes sao diferentes\n",
    "\n",
    "#separo da versao em ingles\n",
    "pt_br = feedbacks_stress[ feedbacks_stress['english'] == 0 ]\n",
    "dif_pref(pt_br)\n",
    "#sessao 1\n",
    "# dif_pref(feedbacks_stress[ feedbacks_stress['num_sessao']== 1])\n",
    "\n",
    "#sessao 2\n",
    "# dif_pref(feedbacks_stress[ feedbacks_stress['num_sessao']== 2])\n",
    "\n",
    "#sessao 3\n",
    "# dif_pref(feedbacks_stress[ feedbacks_stress['num_sessao']== 3])\n",
    "\n",
    "#sessao 4\n",
    "# dif_pref(feedbacks_stress[ feedbacks_stress['num_sessao']== 4])\n",
    "\n",
    "#sessao 5\n",
    "# dif_pref(feedbacks_stress[ feedbacks_stress['num_sessao']== 5])\n",
    "\n",
    "#sessao 6\n",
    "# dif_pref(feedbacks_stress[ feedbacks_stress['num_sessao']== 6])\n",
    "\n",
    "#sessao 7\n",
    "# dif_pref(feedbacks_stress[ feedbacks_stress['num_sessao']== 7])"
   ]
  },
  {
   "cell_type": "code",
   "execution_count": 6,
   "metadata": {},
   "outputs": [
    {
     "data": {
      "text/html": [
       "<div>\n",
       "<style scoped>\n",
       "    .dataframe tbody tr th:only-of-type {\n",
       "        vertical-align: middle;\n",
       "    }\n",
       "\n",
       "    .dataframe tbody tr th {\n",
       "        vertical-align: top;\n",
       "    }\n",
       "\n",
       "    .dataframe thead th {\n",
       "        text-align: right;\n",
       "    }\n",
       "</style>\n",
       "<table border=\"1\" class=\"dataframe\">\n",
       "  <thead>\n",
       "    <tr style=\"text-align: right;\">\n",
       "      <th></th>\n",
       "      <th>interesse1</th>\n",
       "      <th>interesse2</th>\n",
       "      <th>incomodo</th>\n",
       "      <th>num_video_preferido</th>\n",
       "    </tr>\n",
       "  </thead>\n",
       "  <tbody>\n",
       "    <tr>\n",
       "      <th>interesse1</th>\n",
       "      <td>1.000000</td>\n",
       "      <td>0.397280</td>\n",
       "      <td>0.139048</td>\n",
       "      <td>-0.246936</td>\n",
       "    </tr>\n",
       "    <tr>\n",
       "      <th>interesse2</th>\n",
       "      <td>0.397280</td>\n",
       "      <td>1.000000</td>\n",
       "      <td>0.178473</td>\n",
       "      <td>0.326238</td>\n",
       "    </tr>\n",
       "    <tr>\n",
       "      <th>incomodo</th>\n",
       "      <td>0.139048</td>\n",
       "      <td>0.178473</td>\n",
       "      <td>1.000000</td>\n",
       "      <td>0.161009</td>\n",
       "    </tr>\n",
       "    <tr>\n",
       "      <th>num_video_preferido</th>\n",
       "      <td>-0.246936</td>\n",
       "      <td>0.326238</td>\n",
       "      <td>0.161009</td>\n",
       "      <td>1.000000</td>\n",
       "    </tr>\n",
       "  </tbody>\n",
       "</table>\n",
       "</div>"
      ],
      "text/plain": [
       "                     interesse1  interesse2  incomodo  num_video_preferido\n",
       "interesse1             1.000000    0.397280  0.139048            -0.246936\n",
       "interesse2             0.397280    1.000000  0.178473             0.326238\n",
       "incomodo               0.139048    0.178473  1.000000             0.161009\n",
       "num_video_preferido   -0.246936    0.326238  0.161009             1.000000"
      ]
     },
     "execution_count": 6,
     "metadata": {},
     "output_type": "execute_result"
    }
   ],
   "source": [
    "feeds_cor = feedbacks_stress[['interesse1', 'interesse2', 'incomodo', 'num_video_preferido']]\n",
    "# pd.plotting.scatter_matrix(feeds_cor, figsize=(8, 8))\n",
    "feeds_cor.corr()"
   ]
  },
  {
   "cell_type": "code",
   "execution_count": 89,
   "metadata": {},
   "outputs": [
    {
     "data": {
      "image/png": "[encoded data removed]",
      "text/plain": [
       "<Figure size 432x288 with 1 Axes>"
      ]
     },
     "metadata": {},
     "output_type": "display_data"
    }
   ],
   "source": [
    "# grafico (interessev1 x preferencia/escolha usuario)\n",
    "\n",
    "counts = feedbacks_stress.groupby(['interesse1','num_video_preferido'], as_index=False).size().unstack(fill_value=0).reset_index()\n",
    "counts['V1_percent'] = round(counts[1]/(counts[1]+counts[2]), 2)\n",
    "counts['V2_percent'] = round(counts[2]/(counts[1]+counts[2]), 2)\n",
    "\n",
    "ax = plt.subplot()\n",
    "b1 = ax.bar(counts['interesse1']-0.1, counts['V1_percent'],width=0.2,color='b',align='center')\n",
    "b2 = ax.bar(counts['interesse1']+0.1, counts['V2_percent'],width=0.2,color='g',align='center')\n",
    "\n",
    "\n",
    "leg = plt.legend((b1[0], b2[0]), ('V1', 'V2'), loc = 'upper right')\n",
    "\n",
    "# Get the bounding box of the original legend\n",
    "bb = leg.get_bbox_to_anchor().inverse_transformed(ax.transAxes)\n",
    "\n",
    "# Change to location of the legend. \n",
    "xOffset = 0.2\n",
    "bb.x0 += xOffset\n",
    "bb.x1 += xOffset\n",
    "\n",
    "leg.set_bbox_to_anchor(bb, transform = ax.transAxes)\n",
    "\n",
    "plt.ylabel('Frequencia')\n",
    "plt.xlabel('InteresseVideo1')\n",
    "\n",
    "\n",
    "def autolabel(rects, xpos='center'):\n",
    "    \"\"\"\n",
    "    Attach a text label above each bar in *rects*, displaying its height.\n",
    "\n",
    "    *xpos* indicates which side to place the text w.r.t. the center of\n",
    "    the bar. It can be one of the following {'center', 'right', 'left'}.\n",
    "    \"\"\"\n",
    "\n",
    "    xpos = xpos.lower()  # normalize the case of the parameter\n",
    "    ha = {'center': 'center', 'right': 'left', 'left': 'right'}\n",
    "    offset = {'center': 0.5, 'right': 0.57, 'left': 0.43}  # x_txt = x + w*off\n",
    "\n",
    "    for rect in rects:\n",
    "        height = rect.get_height()\n",
    "        ax.text(rect.get_x() + rect.get_width()*offset[xpos], 1.01*height,\n",
    "                '{}'.format(height), ha=ha[xpos], va='bottom')\n",
    "\n",
    "\n",
    "autolabel(b1, \"left\")\n",
    "autolabel(b2, \"right\")\n",
    "plt.show()"
   ]
  },
  {
   "cell_type": "code",
   "execution_count": 8,
   "metadata": {},
   "outputs": [
    {
     "data": {
      "text/plain": [
       "7.451726073719584"
      ]
     },
     "execution_count": 8,
     "metadata": {},
     "output_type": "execute_result"
    }
   ],
   "source": [
    "# teste pareado\n",
    "from math import sqrt\n",
    "dif_interesses = feedbacks_stress['dif_interesses']\n",
    "n = len(dif_interesses)\n",
    "\n",
    "mean = np.mean(dif_interesses)\n",
    "std = np.std(dif_interesses)\n",
    "\n",
    "std_amostral = std/sqrt(n)\n",
    "\n",
    "T = mean/(std_amostral)\n",
    "T"
   ]
  },
  {
   "cell_type": "code",
   "execution_count": 9,
   "metadata": {
    "scrolled": true
   },
   "outputs": [
    {
     "data": {
      "image/png": "[encoded data removed]",
      "text/plain": [
       "<Figure size 432x288 with 1 Axes>"
      ]
     },
     "metadata": {},
     "output_type": "display_data"
    }
   ],
   "source": [
    "int1 = feedbacks_stress['interesse1']\n",
    "int2 = feedbacks_stress['interesse2']\n",
    "data = [int1, int2]\n",
    "plt.boxplot(data)\n",
    "plt.show()"
   ]
  },
  {
   "cell_type": "code",
   "execution_count": 30,
   "metadata": {},
   "outputs": [
    {
     "data": {
      "image/png": "[encoded data removed]",
      "text/plain": [
       "<Figure size 432x288 with 1 Axes>"
      ]
     },
     "metadata": {},
     "output_type": "display_data"
    }
   ],
   "source": [
    "fig, ax = plt.subplots(figsize=(6, 4))\n",
    "\n",
    "plt.yticks(fontsize=15)\n",
    "# ax.set_xlabel(\"Annoyance\")\n",
    "\n",
    "ax.boxplot(feedbacks_stress['incomodo'])\n",
    "ax.set_xticklabels(['Annoyance'])\n",
    "plt.savefig(\"boxplot_annoyance_1909\")\n",
    "plt.show()"
   ]
  }
 ],
 "metadata": {
  "kernelspec": {
   "display_name": "Python 3",
   "language": "python",
   "name": "python3"
  },
  "language_info": {
   "codemirror_mode": {
    "name": "ipython",
    "version": 3
   },
   "file_extension": ".py",
   "mimetype": "text/x-python",
   "name": "python",
   "nbconvert_exporter": "python",
   "pygments_lexer": "ipython3",
   "version": "3.5.2"
  }
 },
 "nbformat": 4,
 "nbformat_minor": 2
}
